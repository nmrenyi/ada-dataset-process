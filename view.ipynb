{
 "cells": [
  {
   "cell_type": "code",
   "execution_count": 3,
   "metadata": {},
   "outputs": [],
   "source": [
    "import pandas as pd"
   ]
  },
  {
   "cell_type": "code",
   "execution_count": null,
   "metadata": {},
   "outputs": [
    {
     "name": "stdout",
     "output_type": "stream",
     "text": [
      "<class 'pandas.core.frame.DataFrame'>\n",
      "RangeIndex: 72924794 entries, 0 to 72924793\n",
      "Data columns (total 8 columns):\n",
      " #   Column         Dtype  \n",
      "---  ------         -----  \n",
      " 0   categories     object \n",
      " 1   upload_date    int64  \n",
      " 2   crawl_date     int64  \n",
      " 3   like_count     float64\n",
      " 4   dislike_count  float64\n",
      " 5   view_count     float64\n",
      " 6   display_id     object \n",
      " 7   channel_id     object \n",
      "dtypes: float64(3), int64(2), object(3)\n",
      "memory usage: 4.3+ GB\n"
     ]
    }
   ],
   "source": [
    "# read jsonlines into a pandas dataframe\n",
    "df = pd.read_csv('dataset/yt_metadata_en_sorted_abs_basic.csv', sep='\\t')\n",
    "df.info()\n"
   ]
  },
  {
   "cell_type": "code",
   "execution_count": 11,
   "metadata": {},
   "outputs": [
    {
     "data": {
      "text/html": [
       "<div>\n",
       "<style scoped>\n",
       "    .dataframe tbody tr th:only-of-type {\n",
       "        vertical-align: middle;\n",
       "    }\n",
       "\n",
       "    .dataframe tbody tr th {\n",
       "        vertical-align: top;\n",
       "    }\n",
       "\n",
       "    .dataframe thead th {\n",
       "        text-align: right;\n",
       "    }\n",
       "</style>\n",
       "<table border=\"1\" class=\"dataframe\">\n",
       "  <thead>\n",
       "    <tr style=\"text-align: right;\">\n",
       "      <th></th>\n",
       "      <th>categories</th>\n",
       "      <th>upload_date</th>\n",
       "      <th>crawl_date</th>\n",
       "      <th>like_count</th>\n",
       "      <th>dislike_count</th>\n",
       "      <th>view_count</th>\n",
       "      <th>display_id</th>\n",
       "      <th>channel_id</th>\n",
       "    </tr>\n",
       "  </thead>\n",
       "  <tbody>\n",
       "    <tr>\n",
       "      <th>0</th>\n",
       "      <td>Entertainment</td>\n",
       "      <td>2018</td>\n",
       "      <td>2019</td>\n",
       "      <td>2630582.0</td>\n",
       "      <td>16916346.0</td>\n",
       "      <td>1.829479e+08</td>\n",
       "      <td>YbJOTdZBX1g</td>\n",
       "      <td>UCBR8-60-B28hp2BmDPdntcQ</td>\n",
       "    </tr>\n",
       "    <tr>\n",
       "      <th>1</th>\n",
       "      <td>People &amp; Blogs</td>\n",
       "      <td>2017</td>\n",
       "      <td>2019</td>\n",
       "      <td>2864436.0</td>\n",
       "      <td>4506614.0</td>\n",
       "      <td>2.542660e+08</td>\n",
       "      <td>hSlb1ezRqfA</td>\n",
       "      <td>UCcgVECVN4OKV6DH1jLkqmcA</td>\n",
       "    </tr>\n",
       "    <tr>\n",
       "      <th>2</th>\n",
       "      <td>Education</td>\n",
       "      <td>2016</td>\n",
       "      <td>2019</td>\n",
       "      <td>11432004.0</td>\n",
       "      <td>4387950.0</td>\n",
       "      <td>3.838039e+09</td>\n",
       "      <td>XqZsoesa55w</td>\n",
       "      <td>UCcdwLMPsaU2ezNSJU1nFoBQ</td>\n",
       "    </tr>\n",
       "    <tr>\n",
       "      <th>3</th>\n",
       "      <td>Entertainment</td>\n",
       "      <td>2016</td>\n",
       "      <td>2019</td>\n",
       "      <td>281508.0</td>\n",
       "      <td>4369825.0</td>\n",
       "      <td>1.854554e+07</td>\n",
       "      <td>wx9Jv5uxfac</td>\n",
       "      <td>UC-lHJZR3Gqxm24_Vd_AJ5Yw</td>\n",
       "    </tr>\n",
       "    <tr>\n",
       "      <th>4</th>\n",
       "      <td>Music</td>\n",
       "      <td>2017</td>\n",
       "      <td>2019</td>\n",
       "      <td>35287325.0</td>\n",
       "      <td>4265883.0</td>\n",
       "      <td>6.509934e+09</td>\n",
       "      <td>kJQP7kiw5Fk</td>\n",
       "      <td>UCLp8RBhQHu9wSsq62j_Md6A</td>\n",
       "    </tr>\n",
       "  </tbody>\n",
       "</table>\n",
       "</div>"
      ],
      "text/plain": [
       "       categories  upload_date  crawl_date  like_count  dislike_count  \\\n",
       "0   Entertainment         2018        2019   2630582.0     16916346.0   \n",
       "1  People & Blogs         2017        2019   2864436.0      4506614.0   \n",
       "2       Education         2016        2019  11432004.0      4387950.0   \n",
       "3   Entertainment         2016        2019    281508.0      4369825.0   \n",
       "4           Music         2017        2019  35287325.0      4265883.0   \n",
       "\n",
       "     view_count   display_id                channel_id  \n",
       "0  1.829479e+08  YbJOTdZBX1g  UCBR8-60-B28hp2BmDPdntcQ  \n",
       "1  2.542660e+08  hSlb1ezRqfA  UCcgVECVN4OKV6DH1jLkqmcA  \n",
       "2  3.838039e+09  XqZsoesa55w  UCcdwLMPsaU2ezNSJU1nFoBQ  \n",
       "3  1.854554e+07  wx9Jv5uxfac  UC-lHJZR3Gqxm24_Vd_AJ5Yw  \n",
       "4  6.509934e+09  kJQP7kiw5Fk  UCLp8RBhQHu9wSsq62j_Md6A  "
      ]
     },
     "execution_count": 11,
     "metadata": {},
     "output_type": "execute_result"
    }
   ],
   "source": [
    "df.head()"
   ]
  },
  {
   "cell_type": "code",
   "execution_count": 20,
   "metadata": {},
   "outputs": [
    {
     "data": {
      "text/plain": [
       "categories\n",
       "Gaming                   13720303\n",
       "Entertainment            12276397\n",
       "News & Politics           8881022\n",
       "Music                     8305003\n",
       "People & Blogs            6910666\n",
       "Sports                    4354412\n",
       "Howto & Style             3968127\n",
       "Education                 3795564\n",
       "Science & Technology      2403004\n",
       "Film & Animation          2359736\n",
       "Autos & Vehicles          2256967\n",
       "Comedy                    1172503\n",
       "Travel & Events           1096565\n",
       "Nonprofits & Activism      777449\n",
       "Pets & Animals             645508\n",
       "Shows                          41\n",
       "Movies                          5\n",
       "Name: count, dtype: int64"
      ]
     },
     "execution_count": 20,
     "metadata": {},
     "output_type": "execute_result"
    }
   ],
   "source": [
    "df['categories'].value_counts()"
   ]
  },
  {
   "cell_type": "code",
   "execution_count": 22,
   "metadata": {},
   "outputs": [
    {
     "data": {
      "text/plain": [
       "upload_date\n",
       "2018    15275859\n",
       "2019    12723124\n",
       "2017    12486407\n",
       "2016     9352771\n",
       "2015     6808073\n",
       "2014     5179935\n",
       "2013     4018279\n",
       "2012     2926436\n",
       "2011     1874984\n",
       "2010     1085424\n",
       "2009      694586\n",
       "2008      338040\n",
       "2007      137250\n",
       "2006       23294\n",
       "2005         332\n",
       "Name: count, dtype: int64"
      ]
     },
     "execution_count": 22,
     "metadata": {},
     "output_type": "execute_result"
    }
   ],
   "source": [
    "df['upload_date'].value_counts()"
   ]
  },
  {
   "cell_type": "code",
   "execution_count": null,
   "metadata": {},
   "outputs": [],
   "source": []
  }
 ],
 "metadata": {
  "kernelspec": {
   "display_name": "ada",
   "language": "python",
   "name": "python3"
  },
  "language_info": {
   "codemirror_mode": {
    "name": "ipython",
    "version": 3
   },
   "file_extension": ".py",
   "mimetype": "text/x-python",
   "name": "python",
   "nbconvert_exporter": "python",
   "pygments_lexer": "ipython3",
   "version": "3.12.6"
  }
 },
 "nbformat": 4,
 "nbformat_minor": 2
}
